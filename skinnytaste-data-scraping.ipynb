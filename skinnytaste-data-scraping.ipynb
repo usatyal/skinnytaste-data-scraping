{
 "cells": [
  {
   "cell_type": "code",
   "execution_count": 1,
   "metadata": {},
   "outputs": [],
   "source": [
    "# importing libraries\n",
    "import requests\n",
    "from bs4 import BeautifulSoup\n",
    "import pandas as pd"
   ]
  },
  {
   "cell_type": "code",
   "execution_count": 2,
   "metadata": {},
   "outputs": [],
   "source": [
    "# sending get request to get the first page\n",
    "page = requests.get(\"https://www.skinnytaste.com/page/1/\")\n",
    "soup = BeautifulSoup(page.content, 'html.parser')"
   ]
  },
  {
   "cell_type": "code",
   "execution_count": 3,
   "metadata": {},
   "outputs": [],
   "source": [
    "# titles from first page in titleArray\n",
    "title = soup.find_all('h2', class_='title')\n",
    "titleArray = [item.get_text() for item in title]"
   ]
  },
  {
   "cell_type": "code",
   "execution_count": 4,
   "metadata": {},
   "outputs": [],
   "source": [
    "# images from first page in imageArray\n",
    "images = soup.select('#content noscript + img.attachment-teaser')\n",
    "imageArray = [item.get('data-src') for item in images]"
   ]
  },
  {
   "cell_type": "code",
   "execution_count": 5,
   "metadata": {},
   "outputs": [],
   "source": [
    "# calories from first page in calArray\n",
    "cal = soup.select('.recipe-meta .icon-star')\n",
    "calArray = [item.get_text() for item in cal]"
   ]
  },
  {
   "cell_type": "code",
   "execution_count": 6,
   "metadata": {},
   "outputs": [],
   "source": [
    "# blue points from first page in blueArray\n",
    "blue = soup.select('.recipe-meta .blue')\n",
    "blueArray = [item.get_text() for item in blue]"
   ]
  },
  {
   "cell_type": "code",
   "execution_count": 7,
   "metadata": {},
   "outputs": [
    {
     "data": {
      "text/plain": [
       "['2', '8', '9', '2', '8', '8', '3', '6']"
      ]
     },
     "execution_count": 7,
     "metadata": {},
     "output_type": "execute_result"
    }
   ],
   "source": [
    "# green points from first page in greenArray\n",
    "green = soup.select('.recipe-meta .green')\n",
    "greenArray = [item.get_text() for item in green]\n",
    "greenArray"
   ]
  },
  {
   "cell_type": "code",
   "execution_count": 8,
   "metadata": {},
   "outputs": [
    {
     "data": {
      "text/plain": [
       "['0', '8', '9', '2', '5', '4', '3', '2']"
      ]
     },
     "execution_count": 8,
     "metadata": {},
     "output_type": "execute_result"
    }
   ],
   "source": [
    "# purple points from first page in purpleArray\n",
    "purple = soup.select('.recipe-meta .purple')\n",
    "purpleArray = [item.get_text() for item in purple]\n",
    "purpleArray"
   ]
  },
  {
   "cell_type": "code",
   "execution_count": 9,
   "metadata": {},
   "outputs": [],
   "source": [
    "# summary from first page in greenArray\n",
    "summary = soup.select('.excerpt')\n",
    "summaryArray = [item.get_text() for item in summary]"
   ]
  },
  {
   "cell_type": "code",
   "execution_count": 10,
   "metadata": {},
   "outputs": [],
   "source": [
    "# creating an empty dataframe\n",
    "df = pd.DataFrame()"
   ]
  },
  {
   "cell_type": "code",
   "execution_count": null,
   "metadata": {},
   "outputs": [],
   "source": [
    "# for loop to get all 30 pages\n",
    "for num in range(1,31):\n",
    "    url = \"https://www.skinnytaste.com/page/\"+ str(num)\n",
    "    page = requests.get(url)\n",
    "    soup = BeautifulSoup(page.content, 'html.parser')\n",
    "    title = soup.find_all('h2', class_='title')\n",
    "    titleArray = [item.get_text() for item in title]\n",
    "    images = soup.select('#content noscript + img.attachment-teaser')\n",
    "    imageArray = [item.get('data-src') for item in images]\n",
    "    cal = soup.select('.recipe-meta .icon-star')\n",
    "    calArray = [item.get_text() for item in cal]\n",
    "    blue = soup.select('.recipe-meta .blue')\n",
    "    blueArray = [item.get_text() for item in blue]\n",
    "    green = soup.select('.recipe-meta .green')\n",
    "    greenArray = [item.get_text() for item in green]\n",
    "    purple = soup.select('.recipe-meta .purple')\n",
    "    purpleArray = [item.get_text() for item in purple]\n",
    "    summary = soup.select('.excerpt')\n",
    "    summaryArray = [item.get_text() for item in summary]\n",
    "    # dictionary of the arrays\n",
    "    dictOfArray = { 'Name': titleArray, 'Image': imageArray, 'Calories': calArray, 'Blue Points':blueArray, 'Green Point':greenArray, 'Purple Point':purpleArray, 'Summary':summaryArray}\n",
    "    # dataframe created from dictionary a\n",
    "    df1 = pd.DataFrame.from_dict(dictOfArray, orient='index')\n",
    "    df1 = df1.transpose()\n",
    "    # appended the value of df1 to df \n",
    "    df = df.append(df1, ignore_index=True)"
   ]
  },
  {
   "cell_type": "code",
   "execution_count": null,
   "metadata": {},
   "outputs": [],
   "source": [
    "df.shape"
   ]
  },
  {
   "cell_type": "code",
   "execution_count": null,
   "metadata": {},
   "outputs": [],
   "source": [
    "df.head(20)"
   ]
  },
  {
   "cell_type": "code",
   "execution_count": null,
   "metadata": {},
   "outputs": [],
   "source": [
    "# saving the scrapped data in csv\n",
    "df.to_csv('skinnytaste-data-scraping.csv')"
   ]
  },
  {
   "cell_type": "code",
   "execution_count": null,
   "metadata": {},
   "outputs": [],
   "source": []
  }
 ],
 "metadata": {
  "kernelspec": {
   "display_name": "Python 3",
   "language": "python",
   "name": "python3"
  },
  "language_info": {
   "codemirror_mode": {
    "name": "ipython",
    "version": 3
   },
   "file_extension": ".py",
   "mimetype": "text/x-python",
   "name": "python",
   "nbconvert_exporter": "python",
   "pygments_lexer": "ipython3",
   "version": "3.8.5"
  }
 },
 "nbformat": 4,
 "nbformat_minor": 4
}
